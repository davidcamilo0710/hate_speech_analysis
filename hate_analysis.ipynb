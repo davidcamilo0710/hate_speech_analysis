{
 "cells": [
  {
   "cell_type": "markdown",
   "metadata": {},
   "source": [
    "<span style=\"font-size: 20pt; font-weight: bold; color: #0098cd;\">Named-Entity Recognition</span>"
   ]
  },
  {
   "cell_type": "markdown",
   "metadata": {},
   "source": [
    "# Parte 1: carga y preprocesamiento del texto a analizar"
   ]
  },
  {
   "cell_type": "code",
   "execution_count": 1,
   "metadata": {},
   "outputs": [
    {
     "name": "stderr",
     "output_type": "stream",
     "text": [
      "/Users/davidcamilo/Library/Python/3.9/lib/python/site-packages/urllib3/__init__.py:35: NotOpenSSLWarning: urllib3 v2 only supports OpenSSL 1.1.1+, currently the 'ssl' module is compiled with 'LibreSSL 2.8.3'. See: https://github.com/urllib3/urllib3/issues/3020\n",
      "  warnings.warn(\n"
     ]
    }
   ],
   "source": [
    "import pathlib\n",
    "import spacy\n",
    "import pandas as pd\n",
    "from spacy import displacy\n",
    "import csv\n",
    "import es_core_news_md"
   ]
  },
  {
   "cell_type": "markdown",
   "metadata": {},
   "source": [
    "El siguiente código simplemente carga y preprocesa el texto. Para ello, lo primero que hace es cargar un modelo de lenguaje previamente entrenado. En este caso, se utiliza <i>es_core_news_md</i>: \n",
    "\n",
    "https://spacy.io/models/es#es_core_news_md\n"
   ]
  },
  {
   "cell_type": "code",
   "execution_count": 2,
   "metadata": {},
   "outputs": [],
   "source": [
    "nlp = es_core_news_md.load()"
   ]
  },
  {
   "cell_type": "markdown",
   "metadata": {},
   "source": [
    "El objeto <i>nlp</i> permite utilizar el modelo de lenguaje cargado, de forma que se puede procesar un texto y obtenerlo en su versión preprocesada. Así, nos permite realizar las diferentes tareas. En este caso, vamos a utilizar el pipeline para hacer un preprocesamiento básico, que consiste en tokenizar el texto."
   ]
  },
  {
   "cell_type": "code",
   "execution_count": 3,
   "metadata": {},
   "outputs": [
    {
     "name": "stderr",
     "output_type": "stream",
     "text": [
      "/var/folders/nb/q8sclyy53zj0glnln2j4qry00000gn/T/ipykernel_9256/400137604.py:4: DtypeWarning: Columns (5,6,7,8,9,10,11,12,13,14) have mixed types. Specify dtype option on import or set low_memory=False.\n",
      "  data = pd.read_csv(filename, delimiter=';')\n"
     ]
    }
   ],
   "source": [
    "filename = \"./02Dataset_sin_procesar.csv\"\n",
    "lines_number = 574915\n",
    "#lines_number = 30000\n",
    "data = pd.read_csv(filename, delimiter=';')  \n",
    "#data = pd.read_csv(filename, delimiter=';',nrows=lines_number)  "
   ]
  },
  {
   "cell_type": "markdown",
   "metadata": {},
   "source": [
    "El código anterior carga el archivo CSV (opcionalmente con un límite de líneas a leer) y genera la variable <i>data</i>, que contiene un Dataframe (https://pandas.pydata.org/docs/reference/api/pandas.DataFrame.html) con los datos leídos del CSV."
   ]
  },
  {
   "cell_type": "code",
   "execution_count": 4,
   "metadata": {},
   "outputs": [
    {
     "name": "stdout",
     "output_type": "stream",
     "text": [
      "Se excluyeron 276 entradas debido a que 'INTENSIDAD' no es un valor numérico entero.\n",
      "Procesadas 10000 líneas\n",
      "Procesadas 20000 líneas\n",
      "Procesadas 30000 líneas\n",
      "Procesadas 40000 líneas\n",
      "Procesadas 50000 líneas\n",
      "Procesadas 60000 líneas\n",
      "Procesadas 70000 líneas\n",
      "Procesadas 80000 líneas\n",
      "Procesadas 90000 líneas\n",
      "Procesadas 100000 líneas\n",
      "Procesadas 110000 líneas\n",
      "Procesadas 120000 líneas\n",
      "Procesadas 130000 líneas\n",
      "Procesadas 140000 líneas\n",
      "Procesadas 150000 líneas\n",
      "Procesadas 160000 líneas\n",
      "Procesadas 170000 líneas\n",
      "Procesadas 180000 líneas\n",
      "Procesadas 190000 líneas\n",
      "Procesadas 200000 líneas\n",
      "Procesadas 210000 líneas\n",
      "Procesadas 220000 líneas\n",
      "Procesadas 230000 líneas\n",
      "Procesadas 240000 líneas\n",
      "Procesadas 250000 líneas\n",
      "Procesadas 260000 líneas\n",
      "Procesadas 270000 líneas\n",
      "Procesadas 280000 líneas\n",
      "Procesadas 290000 líneas\n",
      "Procesadas 300000 líneas\n",
      "Procesadas 310000 líneas\n",
      "Procesadas 320000 líneas\n",
      "Procesadas 330000 líneas\n",
      "Procesadas 340000 líneas\n",
      "Procesadas 350000 líneas\n",
      "Procesadas 360000 líneas\n",
      "Procesadas 370000 líneas\n",
      "Procesadas 380000 líneas\n",
      "Procesadas 390000 líneas\n",
      "Procesadas 400000 líneas\n",
      "Procesadas 410000 líneas\n",
      "Procesadas 420000 líneas\n",
      "Procesadas 430000 líneas\n",
      "Procesadas 440000 líneas\n",
      "Procesadas 450000 líneas\n",
      "Procesadas 460000 líneas\n",
      "Procesadas 470000 líneas\n",
      "Procesadas 480000 líneas\n",
      "Procesadas 490000 líneas\n",
      "Procesadas 500000 líneas\n",
      "Procesadas 510000 líneas\n",
      "Procesadas 520000 líneas\n",
      "Procesadas 530000 líneas\n",
      "Procesadas 540000 líneas\n",
      "Procesadas 550000 líneas\n",
      "Procesadas 560000 líneas\n",
      "Procesadas 570000 líneas\n"
     ]
    }
   ],
   "source": [
    "# Lista para guardar los índices válidos\n",
    "valid_indices = []\n",
    "excluded_count = 0\n",
    "\n",
    "for idx, val in enumerate(data[\"INTENSIDAD\"]):\n",
    "    try:\n",
    "        # Intentar convertir a número (float o int)\n",
    "        numeric_val = float(val)\n",
    "        \n",
    "        # Verificar si es un entero (como 3.0) y no algo como 3.5\n",
    "        if numeric_val.is_integer():\n",
    "            valid_indices.append(idx)\n",
    "        else:\n",
    "            excluded_count += 1\n",
    "    except:\n",
    "        excluded_count += 1\n",
    "\n",
    "print(f\"Se excluyeron {excluded_count} entradas debido a que 'INTENSIDAD' no es un valor numérico entero.\")\n",
    "\n",
    "doc = []\n",
    "value = []\n",
    "\n",
    "for i in valid_indices:\n",
    "    if i % 10000 == 0 and i != 0:\n",
    "        print(f\"Procesadas {i} líneas\")\n",
    "\n",
    "    tmp_doc = nlp(data[\"CONTENIDO A ANALIZAR\"][i])\n",
    "    doc.append(tmp_doc)\n",
    "\n",
    "    tmp_value = int(float(data[\"INTENSIDAD\"][i]))  # Convertimos seguro a int\n",
    "    value.append(tmp_value)\n"
   ]
  },
  {
   "cell_type": "markdown",
   "metadata": {},
   "source": [
    "<span style=\"font-size: 14pt; font-weight: bold; color: #0098cd;\">¿Cuántos registros contiene el corpus?</span>"
   ]
  },
  {
   "cell_type": "code",
   "execution_count": 5,
   "metadata": {},
   "outputs": [
    {
     "name": "stdout",
     "output_type": "stream",
     "text": [
      "Total de registros antes del filtrado: 574915\n",
      "Total de registros válidos (INTENSIDAD numérica entera): 574639\n",
      "Total excluidos: 276\n"
     ]
    }
   ],
   "source": [
    "print(f\"Total de registros antes del filtrado: {len(data)}\")\n",
    "print(f\"Total de registros válidos (INTENSIDAD numérica entera): {len(valid_indices)}\")\n",
    "print(f\"Total excluidos: {len(data) - len(valid_indices)}\")\n"
   ]
  },
  {
   "cell_type": "markdown",
   "metadata": {},
   "source": [
    "<b>Se usó len(data) para contar los registros originales en el CSV, dando un total de 574.915 entradas. Sin embargo, para el análisis posterior se excluyeron 276 registros porque el campo INTENSIDAD no era un número entero. Esto representa apenas el 0.05% del total, por lo que no afecta significativamente el análisis. El corpus final quedó con 574.639 registros válidos.</b>\n",
    "<hr>\n",
    " "
   ]
  },
  {
   "cell_type": "markdown",
   "metadata": {},
   "source": [
    "<span style=\"font-size: 14pt; font-weight: bold; color: #0098cd;\">¿Cuántas palabras totales hay en los comentarios del corpus?</span>"
   ]
  },
  {
   "cell_type": "code",
   "execution_count": 6,
   "metadata": {},
   "outputs": [
    {
     "name": "stdout",
     "output_type": "stream",
     "text": [
      "El corpus contiene un total de 60439308 palabras.\n"
     ]
    }
   ],
   "source": [
    "total_palabras = sum(len([token for token in comentario if token.is_alpha]) for comentario in doc)\n",
    "print(f\"El corpus contiene un total de {total_palabras} palabras.\")"
   ]
  },
  {
   "cell_type": "markdown",
   "metadata": {},
   "source": [
    "<b>Se calculó la cantidad de palabras al contar solo los tokens alfabéticos de cada comentario. Esto excluye signos de puntuación y números, lo cual es adecuado para análisis semántico. El resultado fue de 60.439.308 palabras</b>\n",
    "<hr>\n",
    " "
   ]
  },
  {
   "cell_type": "markdown",
   "metadata": {},
   "source": [
    "<span style=\"font-size: 14pt; font-weight: bold; color: #0098cd;\">¿Cuál el número promedio de palabras en cada comentario?</span>"
   ]
  },
  {
   "cell_type": "code",
   "execution_count": 7,
   "metadata": {},
   "outputs": [
    {
     "name": "stdout",
     "output_type": "stream",
     "text": [
      "El número promedio de palabras por comentario es 105.18\n"
     ]
    }
   ],
   "source": [
    "promedio_palabras = total_palabras / len(doc)\n",
    "print(f\"El número promedio de palabras por comentario es {promedio_palabras:.2f}\")"
   ]
  },
  {
   "cell_type": "markdown",
   "metadata": {},
   "source": [
    "<b>Se dividió el total de palabras por el número de comentarios procesados, arrojando un promedio de 105,18 palabras por comentario. Esto indica que la mayoría de mensajes son bastante extensos.</b>\n",
    "<hr>\n",
    " "
   ]
  },
  {
   "cell_type": "markdown",
   "metadata": {},
   "source": [
    "<span style=\"font-size: 14pt; font-weight: bold; color: #0098cd;\">Considerando dos grupos de comentarios (odio y no odio) ¿Cuál el número promedio de palabras en los comentarios de cada grupo?</span>"
   ]
  },
  {
   "cell_type": "code",
   "execution_count": 8,
   "metadata": {},
   "outputs": [
    {
     "name": "stdout",
     "output_type": "stream",
     "text": [
      "Cantidad de comentarios con odio: 12296 (2.14%)\n",
      "Cantidad de comentarios sin odio: 562343 (97.86%)\n",
      "Promedio de palabras en comentarios con odio: 15.60\n",
      "Promedio de palabras en comentarios sin odio: 107.14\n"
     ]
    }
   ],
   "source": [
    "# Separar grupos usando INTENSIDAD como criterio binario\n",
    "grupo_odio = [doc[i] for i in range(len(doc)) if value[i] >= 1]\n",
    "grupo_no_odio = [doc[i] for i in range(len(doc)) if value[i] == 0]\n",
    "\n",
    "# Función auxiliar\n",
    "def contar_palabras(comentarios):\n",
    "    return [len([token for token in c if token.is_alpha]) for c in comentarios]\n",
    "\n",
    "# Cálculos\n",
    "porcentaje_comentarios_odio = (len(grupo_odio) / len(doc)) * 100\n",
    "porcentaje_comentarios_no_odio = (len(grupo_no_odio) / len(doc)) * 100\n",
    "\n",
    "promedio_palabras_odio = sum(contar_palabras(grupo_odio)) / len(grupo_odio)\n",
    "promedio_palabras_no_odio = sum(contar_palabras(grupo_no_odio)) / len(grupo_no_odio)\n",
    "\n",
    "print(f\"Cantidad de comentarios con odio: {len(grupo_odio)} ({porcentaje_comentarios_odio:.2f}%)\")\n",
    "print(f\"Cantidad de comentarios sin odio: {len(grupo_no_odio)} ({porcentaje_comentarios_no_odio:.2f}%)\")\n",
    "\n",
    "print(f\"Promedio de palabras en comentarios con odio: {promedio_palabras_odio:.2f}\")\n",
    "print(f\"Promedio de palabras en comentarios sin odio: {promedio_palabras_no_odio:.2f}\")\n"
   ]
  },
  {
   "cell_type": "markdown",
   "metadata": {},
   "source": [
    "<b>Separé los comentarios en dos grupos según la intensidad: cuando esta es cero, se clasifican como comentarios sin odio (97.86%); en caso contrario, contienen odio (2.14%). El promedio de palabras en los comentarios con odio es de 15.6, mientras que en los comentarios sin odio asciende a 107.14. La diferencia es notable. Esto sugiere que los mensajes de odio tienden a ser más directos, breves y agresivos. Esta métrica, por sí sola, podría servir como un fuerte indicador para la clasificación en tareas de detección de discurso de odio.</b>\n",
    "<hr>\n",
    " "
   ]
  },
  {
   "cell_type": "markdown",
   "metadata": {},
   "source": [
    "<span style=\"font-size: 14pt; font-weight: bold; color: #0098cd;\">¿Cuál es el número promedio de oraciones en los comentarios de cada grupo?</span>"
   ]
  },
  {
   "cell_type": "code",
   "execution_count": 9,
   "metadata": {},
   "outputs": [
    {
     "name": "stdout",
     "output_type": "stream",
     "text": [
      "Promedio de oraciones (ODIO): 1.55\n",
      "Promedio de oraciones (NO ODIO): 3.99\n"
     ]
    }
   ],
   "source": [
    "def contar_oraciones(comentarios):\n",
    "    return [len(list(c.sents)) for c in comentarios]\n",
    "\n",
    "promedio_sents_odio = sum(contar_oraciones(grupo_odio)) / len(grupo_odio)\n",
    "promedio_sents_no_odio = sum(contar_oraciones(grupo_no_odio)) / len(grupo_no_odio)\n",
    "\n",
    "print(f\"Promedio de oraciones (ODIO): {promedio_sents_odio:.2f}\")\n",
    "print(f\"Promedio de oraciones (NO ODIO): {promedio_sents_no_odio:.2f}\")# Incluye aquí el código generado para poder responder a tu pregunta\n"
   ]
  },
  {
   "cell_type": "markdown",
   "metadata": {},
   "source": [
    "<b>Los mensajes con odio contienen en promedio 1.55 oraciones, mientras que los mensajes sin odio tienen 3.99. Esto refuerza lo observado anteriormente: los mensajes con odio son más breves, probablemente más emocionales y con menos desarrollo argumentativo.</b>\n",
    "<hr>\n",
    " "
   ]
  },
  {
   "cell_type": "markdown",
   "metadata": {},
   "source": [
    "<span style=\"font-size: 14pt; font-weight: bold; color: #0098cd;\">¿Cuál es el porcentaje de comentarios que contienen entidades NER en cada grupo?</span>"
   ]
  },
  {
   "cell_type": "code",
   "execution_count": 10,
   "metadata": {},
   "outputs": [
    {
     "name": "stdout",
     "output_type": "stream",
     "text": [
      "% de comentarios con entidades NER (ODIO): 36.52%\n",
      "% de comentarios con entidades NER (NO ODIO): 59.38%\n"
     ]
    }
   ],
   "source": [
    "def tiene_entidades(comentarios):\n",
    "    return sum(1 for c in comentarios if len(c.ents) > 0)\n",
    "\n",
    "porc_ner_odio = tiene_entidades(grupo_odio) / len(grupo_odio) * 100\n",
    "porc_ner_no_odio = tiene_entidades(grupo_no_odio) / len(grupo_no_odio) * 100\n",
    "\n",
    "print(f\"% de comentarios con entidades NER (ODIO): {porc_ner_odio:.2f}%\")\n",
    "print(f\"% de comentarios con entidades NER (NO ODIO): {porc_ner_no_odio:.2f}%\")\n"
   ]
  },
  {
   "cell_type": "markdown",
   "metadata": {},
   "source": [
    "<b>Solo el 36.52% de los mensajes con odio contienen entidades NER, frente al 59.38% de los que no contienen odio. Esto podría indicar que los comentarios de odio tienden a ser más generales, despersonalizados o coloquiales, mientras que los mensajes informativos o constructivos hacen referencia a personas, lugares o instituciones.</b>\n",
    "<hr>\n"
   ]
  },
  {
   "cell_type": "markdown",
   "metadata": {},
   "source": [
    "<span style=\"font-size: 14pt; font-weight: bold; color: #0098cd;\">¿Cuál es el porcentaje de comentarios que contienen entidades NER de tipo PERSON en cada grupo?</span>"
   ]
  },
  {
   "cell_type": "code",
   "execution_count": 11,
   "metadata": {},
   "outputs": [
    {
     "name": "stdout",
     "output_type": "stream",
     "text": [
      "% de comentarios con entidad PERSON (ODIO): 17.59%\n",
      "% de comentarios con entidad PERSON (NO ODIO): 28.77%\n"
     ]
    }
   ],
   "source": [
    "def tiene_person(comentarios):\n",
    "    return sum(1 for c in comentarios if any(ent.label_ == \"PER\" or ent.label_ == \"PERSON\" for ent in c.ents))\n",
    "\n",
    "porc_person_odio = tiene_person(grupo_odio) / len(grupo_odio) * 100\n",
    "porc_person_no_odio = tiene_person(grupo_no_odio) / len(grupo_no_odio) * 100\n",
    "\n",
    "print(f\"% de comentarios con entidad PERSON (ODIO): {porc_person_odio:.2f}%\")\n",
    "print(f\"% de comentarios con entidad PERSON (NO ODIO): {porc_person_no_odio:.2f}%\")\n"
   ]
  },
  {
   "cell_type": "markdown",
   "metadata": {},
   "source": [
    "<b>Solo el 17.59% de los comentarios con odio mencionan entidades de tipo PERSON, en comparación con el 28.77% en los comentarios sin odio. Esto sugiere que los mensajes de odio, en su mayoría, no están dirigidos a personas específicas, sino que podrían estar enfocados en grupos, ideas, identidades colectivas o instituciones.</b>\n",
    "<hr>\n",
    " "
   ]
  },
  {
   "cell_type": "markdown",
   "metadata": {},
   "source": [
    "<span style=\"font-size: 14pt; font-weight: bold; color: #0098cd;\">Considerando dos grupos de comentarios (odio y no odio) ¿Cuál es el porcentaje de palabras en cada combinación posible de género y número (p.ej. masculino singular) en cada grupo?</span>"
   ]
  },
  {
   "cell_type": "code",
   "execution_count": 12,
   "metadata": {},
   "outputs": [
    {
     "name": "stdout",
     "output_type": "stream",
     "text": [
      "Género_Número       % Odio    % No Odio\n",
      "----------------------------------------\n",
      "Fem_Plur             9.26%       12.28%\n",
      "Fem_Sing            35.98%       35.43%\n",
      "Masc_Plur           18.42%       16.43%\n",
      "Masc_Sing           36.34%       35.85%\n"
     ]
    }
   ],
   "source": [
    "from collections import Counter\n",
    "\n",
    "# Función para obtener combinaciones género+número por palabra\n",
    "def extraer_genero_numero(comentarios):\n",
    "    combinaciones = []\n",
    "    for doc in comentarios:\n",
    "        for token in doc:\n",
    "            if token.pos_ in [\"NOUN\", \"ADJ\", \"PROPN\"]:\n",
    "                genero = token.morph.get(\"Gender\")\n",
    "                numero = token.morph.get(\"Number\")\n",
    "                if genero and numero:\n",
    "                    combinaciones.append(f\"{genero[0]}_{numero[0]}\")\n",
    "    return Counter(combinaciones)\n",
    "\n",
    "# Recuento en cada grupo\n",
    "gn_odio = extraer_genero_numero(grupo_odio)\n",
    "gn_no_odio = extraer_genero_numero(grupo_no_odio)\n",
    "\n",
    "# Totales\n",
    "total_gn_odio = sum(gn_odio.values())\n",
    "total_gn_no_odio = sum(gn_no_odio.values())\n",
    "\n",
    "# Unir todas las claves posibles\n",
    "todas_las_claves = set(gn_odio.keys()) | set(gn_no_odio.keys())\n",
    "\n",
    "# Imprimir tabla\n",
    "print(f\"{'Género_Número':<15} {'% Odio':>10} {'% No Odio':>12}\")\n",
    "print(\"-\" * 40)\n",
    "\n",
    "for clave in sorted(todas_las_claves):\n",
    "    porcentaje_odio = (gn_odio[clave] / total_gn_odio * 100) if clave in gn_odio else 0\n",
    "    porcentaje_no_odio = (gn_no_odio[clave] / total_gn_no_odio * 100) if clave in gn_no_odio else 0\n",
    "    print(f\"{clave:<15} {porcentaje_odio:>9.2f}% {porcentaje_no_odio:>11.2f}%\")\n"
   ]
  },
  {
   "cell_type": "markdown",
   "metadata": {},
   "source": [
    "<b>Los resultados muestran que en ambos grupos predominan las formas masculino singular y femenino singular (alrededor del 36% cada una). No obstante, las diferencias más interesantes aparecen en los plurales: en los comentarios con odio, el masculino plural (18.42%) casi duplica al femenino plural (9.26%), mientras que en los comentarios sin odio esta brecha es mucho menor (16.43% vs. 12.28%). Esto sugiere una mayor presencia de formas masculinas en discursos de odio, especialmente al referirse a colectivos.</b>\n",
    "<hr>\n",
    " "
   ]
  },
  {
   "cell_type": "markdown",
   "metadata": {},
   "source": [
    "<span style=\"font-size: 14pt; font-weight: bold; color: #0098cd;\">Considerando dos grupos de comentarios (odio y no odio), indica cuántas entidades de cada tipo posible se reconocen en cada uno de los grupos</span>"
   ]
  },
  {
   "cell_type": "code",
   "execution_count": 13,
   "metadata": {},
   "outputs": [
    {
     "name": "stdout",
     "output_type": "stream",
     "text": [
      "Tipo de Entidad                  Con Odio             Sin Odio\n",
      "--------------------------------------------------------------\n",
      "LOC                         1596 (25.50%)      742772 (40.30%)\n",
      "MISC                        1136 (18.15%)      207269 (11.25%)\n",
      "ORG                          933 (14.91%)      220097 (11.94%)\n",
      "PER                         2593 (41.43%)      673053 (36.52%)\n"
     ]
    }
   ],
   "source": [
    "def contar_entidades_por_tipo(comentarios):\n",
    "    contador = Counter()\n",
    "    for doc in comentarios:\n",
    "        for ent in doc.ents:\n",
    "            contador[ent.label_] += 1\n",
    "    return contador\n",
    "\n",
    "# Conteo por grupo\n",
    "ner_odio = contar_entidades_por_tipo(grupo_odio)\n",
    "ner_no_odio = contar_entidades_por_tipo(grupo_no_odio)\n",
    "\n",
    "# Totales por grupo\n",
    "total_odio = sum(ner_odio.values())\n",
    "total_no_odio = sum(ner_no_odio.values())\n",
    "\n",
    "# Unir todos los tipos de entidades detectados\n",
    "todos_los_tipos = set(ner_odio.keys()) | set(ner_no_odio.keys())\n",
    "\n",
    "# Imprimir en forma de tabla con número y porcentaje\n",
    "print(f\"{'Tipo de Entidad':<20} {'Con Odio':>20} {'Sin Odio':>20}\")\n",
    "print(\"-\" * 62)\n",
    "\n",
    "for tipo in sorted(todos_los_tipos):\n",
    "    cant_odio = ner_odio.get(tipo, 0)\n",
    "    cant_no_odio = ner_no_odio.get(tipo, 0)\n",
    "\n",
    "    porc_odio = (cant_odio / total_odio * 100) if total_odio else 0\n",
    "    porc_no_odio = (cant_no_odio / total_no_odio * 100) if total_no_odio else 0\n",
    "\n",
    "    col_odio = f\"{cant_odio} ({porc_odio:.2f}%)\"\n",
    "    col_no_odio = f\"{cant_no_odio} ({porc_no_odio:.2f}%)\"\n",
    "\n",
    "    print(f\"{tipo:<20} {col_odio:>20} {col_no_odio:>20}\")\n"
   ]
  },
  {
   "cell_type": "markdown",
   "metadata": {},
   "source": [
    "<b>En los comentarios sin odio, el contenido se concentra principalmente en dos categorías: LOC (40.30%) y PERSON (36.52%). Esto sugiere que los mensajes no hostiles tienden a mencionar lugares y personas de forma predominante, con poca presencia de otras entidades.\n",
    "\n",
    "Por el contrario, en los comentarios con odio, aunque PERSON sigue siendo la categoría dominante (41.43%), hay una distribución más equilibrada entre otras entidades. LOC (25.50%) y MISC (18.15%) también tienen un peso relevante, lo que indica que el discurso de odio, si bien se enfoca mayormente en personas, también involucra referencias significativas a lugares e identidades diversas.</b>\n",
    "<hr>\n",
    " "
   ]
  },
  {
   "cell_type": "markdown",
   "metadata": {},
   "source": [
    "<span style=\"font-size: 14pt; font-weight: bold; color: #0098cd;\">Considerando dos grupos de comentarios (odio y no odio), extrae y muestra los 100 lemas más repetidos en los comentarios de cada grupo</span>"
   ]
  },
  {
   "cell_type": "code",
   "execution_count": 14,
   "metadata": {},
   "outputs": [
    {
     "name": "stdout",
     "output_type": "stream",
     "text": [
      ">> 100 lemas más comunes (ODIO):\n",
      "mierda: 913\n",
      "puta: 776\n",
      "gobierno: 542\n",
      "asco: 529\n",
      "panfleto: 489\n",
      "q: 461\n",
      "país: 459\n",
      "hijo: 449\n",
      "españa: 432\n",
      "mentiroso: 426\n",
      "gente: 395\n",
      "vergüenza: 373\n",
      "basura: 349\n",
      "gentuza: 338\n",
      "español: 316\n",
      "tonto: 290\n",
      "político: 274\n",
      "dejar: 261\n",
      "pasar: 256\n",
      "miserable: 254\n",
      "sinvergüenza: 243\n",
      "idiota: 234\n",
      "ver: 233\n",
      "pagar: 229\n",
      "culo: 226\n",
      "menudo: 221\n",
      "año: 218\n",
      "mundo: 218\n",
      "gilipol él: 216\n",
      "puto: 215\n",
      "tener: 214\n",
      "salir: 211\n",
      "inútil: 210\n",
      "dinero: 209\n",
      "decir: 206\n",
      "dar: 204\n",
      "haber: 202\n",
      "madre: 201\n",
      "vida: 199\n",
      "seguir: 195\n",
      "terrorista: 195\n",
      "facha: 191\n",
      "querer: 190\n",
      "fascista: 188\n",
      "informativo: 181\n",
      "ir: 180\n",
      "poner: 180\n",
      "noticia: 179\n",
      "madrid: 175\n",
      "mujer: 173\n",
      "tomar: 170\n",
      "cárcel: 165\n",
      "creer: 165\n",
      "comunista: 162\n",
      "persona: 161\n",
      "hdp: 160\n",
      "cara: 157\n",
      "hdlgp: 157\n",
      "payaso: 154\n",
      "esperar: 154\n",
      "quedar: 153\n",
      "izquierda: 152\n",
      "asesino: 151\n",
      "panda: 151\n",
      "importar: 149\n",
      "vivir: 148\n",
      "mentira: 147\n",
      "cosa: 145\n",
      "sánchez: 144\n",
      "deber: 144\n",
      "asqueroso: 143\n",
      "vacuna: 138\n",
      "jeta: 137\n",
      "trump: 136\n",
      "pensar: 135\n",
      "votar: 135\n",
      "partido: 134\n",
      "hablar: 133\n",
      "terrorismo: 132\n",
      "venir: 131\n",
      "maldito: 131\n",
      "vox: 129\n",
      "hacer: 129\n",
      "estar: 129\n",
      "acabar: 127\n",
      "llamar: 125\n",
      "llegar: 123\n",
      "dais: 122\n",
      "corrupto: 121\n",
      "catalán: 121\n",
      "muerto: 119\n",
      "calle: 119\n",
      "periodismo: 118\n",
      "imbécil: 118\n",
      "estupidez: 118\n",
      "chino: 118\n",
      "tipo: 117\n",
      "culpa: 114\n",
      "poder: 114\n",
      "hombre: 113\n",
      "\n",
      ">> 100 lemas más comunes (NO ODIO):\n",
      "año: 170884\n",
      "gobierno: 87340\n",
      "persona: 83648\n",
      "país: 77182\n",
      "caso: 72288\n",
      "españa: 70430\n",
      "millón: 56728\n",
      "madrid: 56702\n",
      "ver: 54206\n",
      "seguir: 51650\n",
      "llegar: 50599\n",
      "público: 50565\n",
      "tiempo: 47171\n",
      "mes: 46840\n",
      "pasar: 46744\n",
      "momento: 46434\n",
      "poder: 46347\n",
      "hora: 46129\n",
      "semana: 45649\n",
      "español: 45019\n",
      "vida: 44169\n",
      "euros: 43767\n",
      "partido: 43697\n",
      "comunidad: 41921\n",
      "querer: 41422\n",
      "pandemia: 41356\n",
      "dejar: 41030\n",
      "tener: 40510\n",
      "haber: 39723\n",
      "mundo: 39443\n",
      "social: 39115\n",
      "centro: 39076\n",
      "poner: 38962\n",
      "forma: 38672\n",
      "medida: 38516\n",
      "recibir: 38225\n",
      "presidente: 38017\n",
      "grupo: 36852\n",
      "vacuna: 36436\n",
      "mujer: 35384\n",
      "quedar: 35257\n",
      "trabajo: 35013\n",
      "salir: 34696\n",
      "político: 34287\n",
      "volver: 34215\n",
      "explicar: 34078\n",
      "rt: 33167\n",
      "portada: 33031\n",
      "casa: 32860\n",
      "empresa: 32693\n",
      "pedir: 32481\n",
      "situación: 32393\n",
      "gente: 32159\n",
      "deber: 31542\n",
      "llevar: 31498\n",
      "ir: 31282\n",
      "ciudad: 31274\n",
      "mantener: 31096\n",
      "servicio: 30917\n",
      "cosa: 30739\n",
      "punto: 30636\n",
      "permitir: 30354\n",
      "lugar: 29913\n",
      "equipo: 29416\n",
      "trabajar: 29162\n",
      "problema: 29058\n",
      "vivir: 28902\n",
      "salud: 28421\n",
      "nacional: 28376\n",
      "general: 28284\n",
      "zona: 28263\n",
      "proyecto: 27874\n",
      "estar: 27698\n",
      "hacer: 27613\n",
      "encontrar: 27555\n",
      "pp: 27417\n",
      "dato: 27160\n",
      "esperar: 26790\n",
      "familia: 26495\n",
      "cambio: 26370\n",
      "recordar: 26302\n",
      "número: 26277\n",
      "alto: 25556\n",
      "acabar: 25358\n",
      "derecho: 25259\n",
      "ley: 25218\n",
      "sanitario: 25053\n",
      "venir: 25051\n",
      "frente: 24832\n",
      "joven: 24443\n",
      "decir: 24410\n",
      "i: 24296\n",
      "empezar: 24008\n",
      "seguridad: 23931\n",
      "importante: 23908\n",
      "medio: 23806\n",
      "sistema: 23793\n",
      "historia: 23735\n",
      "contar: 23439\n",
      "asegurar: 23302\n"
     ]
    }
   ],
   "source": [
    "def contar_lemas(comentarios):\n",
    "    lemas = [token.lemma_.lower() for doc in comentarios for token in doc if token.is_alpha and not token.is_stop]\n",
    "    return Counter(lemas).most_common(100)\n",
    "\n",
    "print(\">> 100 lemas más comunes (ODIO):\")\n",
    "for lemma, count in contar_lemas(grupo_odio):\n",
    "    print(f\"{lemma}: {count}\")\n",
    "\n",
    "print(\"\\n>> 100 lemas más comunes (NO ODIO):\")\n",
    "for lemma, count in contar_lemas(grupo_no_odio):\n",
    "    print(f\"{lemma}: {count}\")\n"
   ]
  },
  {
   "cell_type": "markdown",
   "metadata": {},
   "source": [
    "<b>En los comentarios con odio, los lemas más frecuentes incluyen términos claramente ofensivos y peyorativos como \"mierda\", \"puta\", \"asco\", \"basura\", \"gentuza\", \"idiota\", \"inútil\", y otros insultos directos. También aparecen con alta frecuencia palabras relacionadas con política o nacionalidad como \"gobierno\", \"españa\", \"español\", \"sánchez\", \"comunista\", \"fascista\", \"vox\", lo que sugiere que muchos mensajes de odio están ligados a temas ideológicos o de identidad nacional.\n",
    "\n",
    "En contraste, en los comentarios sin odio predominan lemas mucho más neutros o informativos, como \"año\", \"gobierno\", \"persona\", \"caso\", \"mujer\", \"vacuna\", \"trabajo\", \"vida\", \"familia\" y \"salud\". Esto refuerza la idea de que los comentarios no agresivos tienden a referirse a hechos, contextos sociales y situaciones cotidianas, con un lenguaje más formal y descriptivo.\n",
    "\n",
    "Además, mientras que en los mensajes sin odio predominan sustantivos concretos y verbos relacionados con acciones o estados (como \"tener\", \"haber\", \"poder\", \"esperar\", \"vivir\"), en los de odio hay mayor presencia de insultos, adjetivos calificativos intensos y términos despectivos.</b>\n",
    "<hr>\n",
    " "
   ]
  },
  {
   "cell_type": "markdown",
   "metadata": {},
   "source": [
    "<span style=\"font-size: 14pt; font-weight: bold; color: #0098cd;\">¿Es posible utilizar alguna de las características extraídas en las preguntas anteriores para determinar si un mensaje contiene odio? Justifica tu respuesta con el análisis estadístico que consideres necesario.</span>"
   ]
  },
  {
   "cell_type": "code",
   "execution_count": 32,
   "metadata": {},
   "outputs": [
    {
     "data": {
      "text/html": [
       "<div>\n",
       "<style scoped>\n",
       "    .dataframe tbody tr th:only-of-type {\n",
       "        vertical-align: middle;\n",
       "    }\n",
       "\n",
       "    .dataframe tbody tr th {\n",
       "        vertical-align: top;\n",
       "    }\n",
       "\n",
       "    .dataframe thead th {\n",
       "        text-align: right;\n",
       "    }\n",
       "</style>\n",
       "<table border=\"1\" class=\"dataframe\">\n",
       "  <thead>\n",
       "    <tr style=\"text-align: right;\">\n",
       "      <th>intensidad</th>\n",
       "      <th>0</th>\n",
       "      <th>1</th>\n",
       "      <th>2</th>\n",
       "      <th>3</th>\n",
       "      <th>4</th>\n",
       "      <th>5</th>\n",
       "      <th>6</th>\n",
       "    </tr>\n",
       "  </thead>\n",
       "  <tbody>\n",
       "    <tr>\n",
       "      <th>num_palabras</th>\n",
       "      <td>107.14</td>\n",
       "      <td>16.44</td>\n",
       "      <td>32.53</td>\n",
       "      <td>31.24</td>\n",
       "      <td>14.95</td>\n",
       "      <td>16.76</td>\n",
       "      <td>26.00</td>\n",
       "    </tr>\n",
       "    <tr>\n",
       "      <th>num_oraciones</th>\n",
       "      <td>3.99</td>\n",
       "      <td>1.53</td>\n",
       "      <td>1.90</td>\n",
       "      <td>2.22</td>\n",
       "      <td>1.54</td>\n",
       "      <td>1.42</td>\n",
       "      <td>1.85</td>\n",
       "    </tr>\n",
       "    <tr>\n",
       "      <th>tiene_ner</th>\n",
       "      <td>0.59</td>\n",
       "      <td>0.31</td>\n",
       "      <td>0.44</td>\n",
       "      <td>0.48</td>\n",
       "      <td>0.37</td>\n",
       "      <td>0.35</td>\n",
       "      <td>0.31</td>\n",
       "    </tr>\n",
       "    <tr>\n",
       "      <th>tiene_person</th>\n",
       "      <td>0.29</td>\n",
       "      <td>0.12</td>\n",
       "      <td>0.13</td>\n",
       "      <td>0.19</td>\n",
       "      <td>0.18</td>\n",
       "      <td>0.18</td>\n",
       "      <td>0.15</td>\n",
       "    </tr>\n",
       "    <tr>\n",
       "      <th>ratio_fem_sing</th>\n",
       "      <td>0.10</td>\n",
       "      <td>0.08</td>\n",
       "      <td>0.08</td>\n",
       "      <td>0.08</td>\n",
       "      <td>0.12</td>\n",
       "      <td>0.09</td>\n",
       "      <td>0.07</td>\n",
       "    </tr>\n",
       "    <tr>\n",
       "      <th>ratio_fem_plur</th>\n",
       "      <td>0.03</td>\n",
       "      <td>0.03</td>\n",
       "      <td>0.02</td>\n",
       "      <td>0.02</td>\n",
       "      <td>0.02</td>\n",
       "      <td>0.02</td>\n",
       "      <td>0.03</td>\n",
       "    </tr>\n",
       "    <tr>\n",
       "      <th>ratio_masc_sing</th>\n",
       "      <td>0.10</td>\n",
       "      <td>0.18</td>\n",
       "      <td>0.09</td>\n",
       "      <td>0.07</td>\n",
       "      <td>0.11</td>\n",
       "      <td>0.09</td>\n",
       "      <td>0.06</td>\n",
       "    </tr>\n",
       "    <tr>\n",
       "      <th>ratio_masc_plur</th>\n",
       "      <td>0.04</td>\n",
       "      <td>0.07</td>\n",
       "      <td>0.06</td>\n",
       "      <td>0.05</td>\n",
       "      <td>0.06</td>\n",
       "      <td>0.03</td>\n",
       "      <td>0.04</td>\n",
       "    </tr>\n",
       "    <tr>\n",
       "      <th>ratio_LOC</th>\n",
       "      <td>0.02</td>\n",
       "      <td>0.01</td>\n",
       "      <td>0.03</td>\n",
       "      <td>0.02</td>\n",
       "      <td>0.01</td>\n",
       "      <td>0.00</td>\n",
       "      <td>0.00</td>\n",
       "    </tr>\n",
       "    <tr>\n",
       "      <th>ratio_MISC</th>\n",
       "      <td>0.02</td>\n",
       "      <td>0.01</td>\n",
       "      <td>0.01</td>\n",
       "      <td>0.01</td>\n",
       "      <td>0.02</td>\n",
       "      <td>0.01</td>\n",
       "      <td>0.00</td>\n",
       "    </tr>\n",
       "    <tr>\n",
       "      <th>ratio_ORG</th>\n",
       "      <td>0.01</td>\n",
       "      <td>0.01</td>\n",
       "      <td>0.00</td>\n",
       "      <td>0.01</td>\n",
       "      <td>0.01</td>\n",
       "      <td>0.00</td>\n",
       "      <td>0.00</td>\n",
       "    </tr>\n",
       "    <tr>\n",
       "      <th>ratio_PER</th>\n",
       "      <td>0.02</td>\n",
       "      <td>0.01</td>\n",
       "      <td>0.01</td>\n",
       "      <td>0.01</td>\n",
       "      <td>0.04</td>\n",
       "      <td>0.02</td>\n",
       "      <td>0.00</td>\n",
       "    </tr>\n",
       "    <tr>\n",
       "      <th>count_lemas_toxicos</th>\n",
       "      <td>3.81</td>\n",
       "      <td>1.68</td>\n",
       "      <td>1.91</td>\n",
       "      <td>2.46</td>\n",
       "      <td>1.76</td>\n",
       "      <td>1.52</td>\n",
       "      <td>1.85</td>\n",
       "    </tr>\n",
       "    <tr>\n",
       "      <th>ratio_lemas_toxicos</th>\n",
       "      <td>0.13</td>\n",
       "      <td>0.31</td>\n",
       "      <td>0.21</td>\n",
       "      <td>0.23</td>\n",
       "      <td>0.34</td>\n",
       "      <td>0.21</td>\n",
       "      <td>0.22</td>\n",
       "    </tr>\n",
       "  </tbody>\n",
       "</table>\n",
       "</div>"
      ],
      "text/plain": [
       "intensidad               0     1     2     3     4     5     6\n",
       "num_palabras        107.14 16.44 32.53 31.24 14.95 16.76 26.00\n",
       "num_oraciones         3.99  1.53  1.90  2.22  1.54  1.42  1.85\n",
       "tiene_ner             0.59  0.31  0.44  0.48  0.37  0.35  0.31\n",
       "tiene_person          0.29  0.12  0.13  0.19  0.18  0.18  0.15\n",
       "ratio_fem_sing        0.10  0.08  0.08  0.08  0.12  0.09  0.07\n",
       "ratio_fem_plur        0.03  0.03  0.02  0.02  0.02  0.02  0.03\n",
       "ratio_masc_sing       0.10  0.18  0.09  0.07  0.11  0.09  0.06\n",
       "ratio_masc_plur       0.04  0.07  0.06  0.05  0.06  0.03  0.04\n",
       "ratio_LOC             0.02  0.01  0.03  0.02  0.01  0.00  0.00\n",
       "ratio_MISC            0.02  0.01  0.01  0.01  0.02  0.01  0.00\n",
       "ratio_ORG             0.01  0.01  0.00  0.01  0.01  0.00  0.00\n",
       "ratio_PER             0.02  0.01  0.01  0.01  0.04  0.02  0.00\n",
       "count_lemas_toxicos   3.81  1.68  1.91  2.46  1.76  1.52  1.85\n",
       "ratio_lemas_toxicos   0.13  0.31  0.21  0.23  0.34  0.21  0.22"
      ]
     },
     "execution_count": 32,
     "metadata": {},
     "output_type": "execute_result"
    }
   ],
   "source": [
    "# --- 3. Construcción del DataFrame con todas las características\n",
    "rows = []\n",
    "\n",
    "for i in range(len(doc)):\n",
    "    comentario = doc[i]\n",
    "    intensidad_i = value[i]\n",
    "    \n",
    "    # Palabras y oraciones\n",
    "    palabras = [t for t in comentario if t.is_alpha]\n",
    "    num_palabras = len(palabras)\n",
    "    num_oraciones = len(list(comentario.sents))\n",
    "    \n",
    "    # Entidades\n",
    "    tiene_ner = 1 if len(comentario.ents) > 0 else 0\n",
    "    tiene_person = 1 if any(ent.label_ in [\"PER\", \"PERSON\"] for ent in comentario.ents) else 0\n",
    "    \n",
    "    # Género y número\n",
    "    genero_num = contar_genero_numero(comentario)\n",
    "    \n",
    "    # Entidades NER por tipo\n",
    "    entidades = contar_entidades_por_tipo(comentario)\n",
    "    \n",
    "    # Lemas tóxicos\n",
    "    count_toxicos, ratio_toxicos = contar_lemas_toxicos(comentario)\n",
    "    \n",
    "    row = {\n",
    "        'intensidad': intensidad_i,\n",
    "        'num_palabras': num_palabras,\n",
    "        'num_oraciones': num_oraciones,\n",
    "        'tiene_ner': tiene_ner,\n",
    "        'tiene_person': tiene_person,\n",
    "        # Género y número (ratios)\n",
    "        'ratio_fem_sing': genero_num['fem_sing'] / num_palabras if num_palabras else 0,\n",
    "        'ratio_fem_plur': genero_num['fem_plur'] / num_palabras if num_palabras else 0,\n",
    "        'ratio_masc_sing': genero_num['masc_sing'] / num_palabras if num_palabras else 0,\n",
    "        'ratio_masc_plur': genero_num['masc_plur'] / num_palabras if num_palabras else 0,\n",
    "        # Entidades por tipo (ratios)\n",
    "        'ratio_LOC': entidades['LOC'] / num_palabras if num_palabras else 0,\n",
    "        'ratio_MISC': entidades['MISC'] / num_palabras if num_palabras else 0,\n",
    "        'ratio_ORG': entidades['ORG'] / num_palabras if num_palabras else 0,\n",
    "        'ratio_PER': entidades['PER'] / num_palabras if num_palabras else 0,\n",
    "        # Lemas tóxicos\n",
    "        'count_lemas_toxicos': count_toxicos,\n",
    "        'ratio_lemas_toxicos': ratio_toxicos\n",
    "    }\n",
    "    rows.append(row)\n",
    "\n",
    "# Convertimos a DataFrame\n",
    "df_features = pd.DataFrame(rows)\n",
    "tabla_ratios_por_intensidad = df_features.groupby('intensidad').mean(numeric_only=True).T\n",
    "tabla_ratios_por_intensidad"
   ]
  },
  {
   "cell_type": "markdown",
   "metadata": {},
   "source": [
    "<b>Sí, es posible utilizar varias de las características extraídas para determinar si un mensaje contiene odio. Aunque el corpus está altamente desbalanceado (solo el 2.14% de los mensajes tienen alguna intensidad de odio), el análisis por niveles de intensidad permite observar patrones claros y consistentes que justifican su uso como variables predictivas.\n",
    "\n",
    "A partir de la tabla agregada por niveles de intensidad, se pueden destacar los siguientes hallazgos:\n",
    "\n",
    "Los mensajes con mayor intensidad de odio son significativamente más cortos, tanto en número de palabras como en número de oraciones. Por ejemplo, los comentarios sin odio tienen en promedio 107 palabras y 3.99 oraciones, mientras que los de intensidad 1 tienen apenas 16 palabras y 1.53 oraciones.\n",
    "\n",
    "La presencia de entidades NER y especialmente de tipo PERSON disminuye claramente en los mensajes con odio. Esto sugiere que estos comentarios tienden a ser menos informativos y más generalistas o emocionales.\n",
    "\n",
    "Aunque el número absoluto de lemas tóxicos en comentarios con odio no es alto, la proporción de lemas tóxicos sobre el total de palabras es mucho mayor. En mensajes sin odio, el ratio es de 0.13, mientras que en mensajes con intensidad 1 sube hasta 0.31, lo que implica un lenguaje más agresivo y ofensivo.\n",
    "\n",
    "Las variables morfológicas de género y número (como ratio_masc_sing o ratio_fem_sing) muestran ligeras variaciones, pero no presentan una tendencia clara que permita usarlas como predictores principales.\n",
    "\n",
    "En conjunto, este análisis muestra que variables como; número de palabras, número de oraciones, presencia de entidades NER y PERSON, y proporción de lemas tóxicos tienen un comportamiento diferencial consistente y pueden utilizarse como señales para construir un modelo de detección de odio. Aunque no son perfectas de forma individual, combinadas tienen valor discriminativo y justifican su inclusión en modelos más complejos, especialmente si se complementan con técnicas para tratar el desbalance del corpus.</b>\n",
    "<hr>\n",
    " "
   ]
  }
 ],
 "metadata": {
  "kernelspec": {
   "display_name": "Python 3",
   "language": "python",
   "name": "python3"
  },
  "language_info": {
   "codemirror_mode": {
    "name": "ipython",
    "version": 3
   },
   "file_extension": ".py",
   "mimetype": "text/x-python",
   "name": "python",
   "nbconvert_exporter": "python",
   "pygments_lexer": "ipython3",
   "version": "3.9.6"
  }
 },
 "nbformat": 4,
 "nbformat_minor": 4
}
